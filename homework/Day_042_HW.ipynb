{
 "cells": [
  {
   "cell_type": "markdown",
   "metadata": {},
   "source": [
    "## [作業重點]\n",
    "目前你應該已經要很清楚資料集中，資料的型態是什麼樣子囉！包含特徵 (features) 與標籤 (labels)。因此要記得未來不管什麼專案，必須要把資料清理成相同的格式，才能送進模型訓練。\n",
    "今天的作業開始踏入決策樹這個非常重要的模型，請務必確保你理解模型中每個超參數的意思，並試著調整看看，對最終預測結果的影響為何"
   ]
  },
  {
   "cell_type": "markdown",
   "metadata": {},
   "source": [
    "## 作業\n",
    "\n",
    "1. 試著調整 DecisionTreeClassifier(...) 中的參數，並觀察是否會改變結果？\n",
    "2. 改用其他資料集 (boston, wine)，並與回歸模型的結果進行比較"
   ]
  },
  {
   "cell_type": "markdown",
   "metadata": {},
   "source": [
    "1. 當max_depth太低時，會影響準確率\n",
    "2. 若使用回歸模型，須記得使用回歸之metrics"
   ]
  },
  {
   "cell_type": "code",
   "execution_count": 22,
   "metadata": {},
   "outputs": [],
   "source": [
    "from sklearn import datasets, metrics\n",
    "\n",
    "# 如果是分類問題，請使用 DecisionTreeClassifier，若為回歸問題，請使用 DecisionTreeRegressor\n",
    "from sklearn.tree import DecisionTreeClassifier, DecisionTreeRegressor\n",
    "from sklearn.model_selection import train_test_split"
   ]
  },
  {
   "cell_type": "code",
   "execution_count": 23,
   "metadata": {},
   "outputs": [],
   "source": [
    "def classifier(dataset, criterion_in = 'gini', max_depth_in = None, min_samples_split_in = 2, min_samples_leaf_in = 1):\n",
    "\n",
    "    # 切分訓練集/測試集\n",
    "    x_train, x_test, y_train, y_test = train_test_split(dataset.data, dataset.target, test_size=0.25, random_state=4)\n",
    "\n",
    "    # 建立模型\n",
    "    clf = DecisionTreeClassifier(\n",
    "            criterion = criterion_in,\n",
    "            max_depth = max_depth_in,\n",
    "            min_samples_split = min_samples_split_in,\n",
    "            min_samples_leaf = min_samples_leaf_in\n",
    "    )\n",
    "\n",
    "    # 訓練模型\n",
    "    clf.fit(x_train, y_train)\n",
    "\n",
    "    # 預測測試集\n",
    "    y_pred = clf.predict(x_test)\n",
    "    \n",
    "    return y_test, y_pred, clf"
   ]
  },
  {
   "cell_type": "code",
   "execution_count": 24,
   "metadata": {},
   "outputs": [],
   "source": [
    "def regressor(dataset, criterion_in ='mse', max_depth_in = None, min_samples_split_in = 2, min_samples_leaf_in = 1):\n",
    "\n",
    "    # 切分訓練集/測試集\n",
    "    x_train, x_test, y_train, y_test = train_test_split(dataset.data, dataset.target, test_size=0.25, random_state=4)\n",
    "\n",
    "    # 建立模型\n",
    "    clf = DecisionTreeRegressor(\n",
    "            criterion = criterion_in,\n",
    "            max_depth = max_depth_in,\n",
    "            min_samples_split = min_samples_split_in,\n",
    "            min_samples_leaf = min_samples_leaf_in\n",
    "    )\n",
    "\n",
    "    # 訓練模型\n",
    "    clf.fit(x_train, y_train)\n",
    "\n",
    "    # 預測測試集\n",
    "    y_pred = clf.predict(x_test)\n",
    "    \n",
    "    return y_test, y_pred, clf"
   ]
  },
  {
   "cell_type": "code",
   "execution_count": 52,
   "metadata": {},
   "outputs": [
    {
     "name": "stdout",
     "output_type": "stream",
     "text": [
      "Acuuracy:  0.9736842105263158\n",
      "['sepal length (cm)', 'sepal width (cm)', 'petal length (cm)', 'petal width (cm)']\n",
      "Feature importance:  [0. 0. 0. 1.]\n"
     ]
    }
   ],
   "source": [
    "dataset = datasets.load_iris()\n",
    "\n",
    "y_test, y_pred, clf = classifier(dataset, criterion_in = \"entropy\", \n",
    "                                 max_depth_in = 2, \n",
    "                                 min_samples_split_in = 10, \n",
    "                                 min_samples_leaf_in = 10)\n",
    "\n",
    "acc = metrics.accuracy_score(y_test, y_pred)\n",
    "print(\"Acuuracy: \", acc)\n",
    "print(dataset.feature_names)\n",
    "print(\"Feature importance: \", clf.feature_importances_)"
   ]
  },
  {
   "cell_type": "code",
   "execution_count": 47,
   "metadata": {},
   "outputs": [
    {
     "name": "stdout",
     "output_type": "stream",
     "text": [
      "Acuuracy:  0.8444444444444444\n",
      "['alcohol', 'malic_acid', 'ash', 'alcalinity_of_ash', 'magnesium', 'total_phenols', 'flavanoids', 'nonflavanoid_phenols', 'proanthocyanins', 'color_intensity', 'hue', 'od280/od315_of_diluted_wines', 'proline']\n",
      "Feature importance:  [0.         0.         0.         0.         0.         0.\n",
      " 0.         0.         0.         0.43574193 0.         0.06177007\n",
      " 0.502488  ]\n"
     ]
    }
   ],
   "source": [
    "dataset = datasets.load_wine()\n",
    "y_test, y_pred, clf = classifier(dataset, criterion_in = \"gini\", \n",
    "                                 max_depth_in = 2, \n",
    "                                 min_samples_split_in = 10, \n",
    "                                 min_samples_leaf_in = 10)\n",
    "\n",
    "acc = metrics.accuracy_score(y_test, y_pred)\n",
    "print(\"Acuuracy: \", acc)\n",
    "print(dataset.feature_names)\n",
    "print(\"Feature importance: \", clf.feature_importances_)"
   ]
  },
  {
   "cell_type": "code",
   "execution_count": 57,
   "metadata": {},
   "outputs": [
    {
     "name": "stdout",
     "output_type": "stream",
     "text": [
      "mse:  27.348024863955626\n",
      "['CRIM' 'ZN' 'INDUS' 'CHAS' 'NOX' 'RM' 'AGE' 'DIS' 'RAD' 'TAX' 'PTRATIO'\n",
      " 'B' 'LSTAT']\n",
      "Feature importance:  [0.06356891 0.         0.00552004 0.01041665 0.00406827 0.58656601\n",
      " 0.         0.05641972 0.         0.         0.01488899 0.02445685\n",
      " 0.23409457]\n"
     ]
    }
   ],
   "source": [
    "dataset = datasets.load_boston()\n",
    "\n",
    "y_test, y_pred, clf = regressor(dataset, criterion_in = \"mse\", \n",
    "                                 max_depth_in = 5, \n",
    "                                 min_samples_split_in = 2, \n",
    "                                 min_samples_leaf_in = 1)\n",
    "\n",
    "mse = metrics.mean_squared_error(y_test, y_pred)\n",
    "print(\"mse: \", mse)\n",
    "print(dataset.feature_names)\n",
    "print(\"Feature importance: \", clf.feature_importances_)"
   ]
  },
  {
   "cell_type": "code",
   "execution_count": null,
   "metadata": {},
   "outputs": [],
   "source": []
  }
 ],
 "metadata": {
  "kernelspec": {
   "display_name": "Python 3",
   "language": "python",
   "name": "python3"
  },
  "language_info": {
   "codemirror_mode": {
    "name": "ipython",
    "version": 3
   },
   "file_extension": ".py",
   "mimetype": "text/x-python",
   "name": "python",
   "nbconvert_exporter": "python",
   "pygments_lexer": "ipython3",
   "version": "3.7.1"
  }
 },
 "nbformat": 4,
 "nbformat_minor": 2
}
