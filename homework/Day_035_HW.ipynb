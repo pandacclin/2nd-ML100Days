{
 "cells": [
  {
   "cell_type": "markdown",
   "metadata": {},
   "source": [
    "## 練習時間\n",
    "相信大家對回歸問題及分類問題都有初步的了解。今天的作業希望大家搜尋有關 multi-label 的案例問題。下圖是電影 \"奇異博士\" 的分類。可以看到同時有 \"Action\", \"Adventure\", \"Fantasy\" 的類別存在，代表這是個多標籤的問題。 "
   ]
  },
  {
   "cell_type": "markdown",
   "metadata": {},
   "source": [
    "![image](https://cdn-images-1.medium.com/max/1000/1*r0gYXMSQf5VhdMyl2bRDyg.png)"
   ]
  },
  {
   "cell_type": "markdown",
   "metadata": {},
   "source": [
    "## 請搜尋目標為多標籤問題 (Multi-label) 的機器學習案例，了解其資料來源、目標以及評估指標為何\n",
    "## Hint: 服飾"
   ]
  },
  {
   "cell_type": "markdown",
   "metadata": {},
   "source": [
    "1. 圖像內容分類 : https://www.tinymind.cn/competitions/42"
   ]
  },
  {
   "cell_type": "markdown",
   "metadata": {},
   "source": [
    "* 資料來源:  \n",
    "\n",
    "利用人工標記\n",
    "本次竞赛共有3.5W张图片作为训练集，8K张图片作为第一阶段评分测试集，最后6612张图片作为总决赛测试集。\n",
    "\n",
    "visual_china_train.csv 图片与标签对应的列表。文件名已做hash处理。\n",
    "valid_tags.txt：6941个标签的有序列表文件。标签的标号从0开始，到6940为止。\n",
    "tags_train.npz: 3.5W张图片对应的标签。该文件为npz格式数组，可以用np.load直接载入。数组shape为（35000，6941），数组列顺序与visual_china_train.csv文件列顺序对应。数组中每一行代表一张图片的标签，对应valid_tags.txt内容顺序代表的标签位置为1代表该图片有该标签，为0则代表该图片没有该标签。\n",
    "train.tgz: 3.5W张训练图片。\n",
    "valid.tgz: 8K张验证图片。"
   ]
  },
  {
   "cell_type": "markdown",
   "metadata": {},
   "source": [
    "* 目標:  \n",
    "模型能自动根据输入的任意图片提供对应图片内容的多个标签"
   ]
  },
  {
   "cell_type": "markdown",
   "metadata": {},
   "source": [
    "* 評估指標:  \n",
    "本竞赛使用f_measure为最终评价指标，"
   ]
  },
  {
   "cell_type": "code",
   "execution_count": null,
   "metadata": {},
   "outputs": [],
   "source": []
  }
 ],
 "metadata": {
  "kernelspec": {
   "display_name": "Python 3",
   "language": "python",
   "name": "python3"
  },
  "language_info": {
   "codemirror_mode": {
    "name": "ipython",
    "version": 3
   },
   "file_extension": ".py",
   "mimetype": "text/x-python",
   "name": "python",
   "nbconvert_exporter": "python",
   "pygments_lexer": "ipython3",
   "version": "3.7.1"
  }
 },
 "nbformat": 4,
 "nbformat_minor": 2
}
